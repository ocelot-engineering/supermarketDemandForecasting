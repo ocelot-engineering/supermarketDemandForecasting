{
 "cells": [
  {
   "cell_type": "markdown",
   "source": [
    "# EDA of datasets provided by Kaggle\n",
    "The purpose of this notebook is to explore each of the datasets provided by Kaggle.\n",
    "The output will be:\n",
    "- comments assisting with the general understanding of the data available\n",
    "- interesting insights that may influence modelling\n",
    "- recommendations for feature engineering"
   ],
   "metadata": {
    "collapsed": false,
    "pycharm": {
     "name": "#%% md\n"
    }
   }
  },
  {
   "cell_type": "markdown",
   "source": [
    "## Train\n",
    "Note, this is the largest dataset and the assumption is most of the feature engineering will be built around this dataset."
   ],
   "metadata": {
    "collapsed": false,
    "pycharm": {
     "name": "#%% md\n"
    }
   }
  },
  {
   "cell_type": "code",
   "execution_count": 3,
   "outputs": [],
   "source": [
    "from config import proj\n",
    "from pyspark.sql import SparkSession\n",
    "spark = SparkSession.builder.getOrCreate()\n",
    "df = spark.read.parquet(str(proj.Config.paths.get(\"data_proc\").joinpath(\"train.parquet\")))"
   ],
   "metadata": {
    "collapsed": false,
    "pycharm": {
     "name": "#%%\n"
    }
   }
  },
  {
   "cell_type": "code",
   "execution_count": 6,
   "outputs": [
    {
     "name": "stdout",
     "output_type": "stream",
     "text": [
      "+----------+---------+--------+----------+-----------+\n",
      "|      date|store_nbr|item_nbr|unit_sales|onpromotion|\n",
      "+----------+---------+--------+----------+-----------+\n",
      "|2013-04-06|       49|  586969|       7.0|       null|\n",
      "|2013-04-06|       49|  587069|      21.0|       null|\n",
      "|2013-04-06|       49|  587156|       6.0|       null|\n",
      "|2013-04-06|       49|  587186|      22.0|       null|\n",
      "|2013-04-06|       49|  589403|       9.0|       null|\n",
      "+----------+---------+--------+----------+-----------+\n",
      "only showing top 5 rows\n",
      "\n"
     ]
    }
   ],
   "source": [
    "df.show(5)"
   ],
   "metadata": {
    "collapsed": false,
    "pycharm": {
     "name": "#%%\n"
    }
   }
  },
  {
   "cell_type": "markdown",
   "source": [
    "Initial ideas\n",
    "- date range\n",
    "- any missing dates\n",
    "- counts of stores, items\n",
    "- unit sales distribution (overall)\n",
    "- onpromo distribution over all\n",
    "- time series plot (any seasonality)\n",
    "- STL decomposition (trends seasonality)\n",
    "- check for stationality (mean and variance stationary in time)\n",
    "- missing promo flags (suggestion of treatment)\n",
    "- checks for autocorrelation and partial autocorrelation"
   ],
   "metadata": {
    "collapsed": false,
    "pycharm": {
     "name": "#%% md\n"
    }
   }
  }
 ],
 "metadata": {
  "kernelspec": {
   "display_name": "Python 3",
   "language": "python",
   "name": "python3"
  },
  "language_info": {
   "codemirror_mode": {
    "name": "ipython",
    "version": 2
   },
   "file_extension": ".py",
   "mimetype": "text/x-python",
   "name": "python",
   "nbconvert_exporter": "python",
   "pygments_lexer": "ipython2",
   "version": "2.7.6"
  }
 },
 "nbformat": 4,
 "nbformat_minor": 0
}