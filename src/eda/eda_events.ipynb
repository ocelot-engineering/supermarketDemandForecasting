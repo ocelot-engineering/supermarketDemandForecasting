{
 "cells": [
  {
   "cell_type": "markdown",
   "source": [
    "# EDA for events\n",
    "Useful for understanding before feature engineering.\n",
    "Some EDA was already done in `src/eda/eda_main`"
   ],
   "metadata": {
    "collapsed": false,
    "pycharm": {
     "name": "#%% md\n"
    }
   }
  },
  {
   "cell_type": "code",
   "execution_count": null,
   "outputs": [],
   "source": [
    "from config import proj\n",
    "from pyspark.sql import SparkSession\n",
    "spark = SparkSession.builder.getOrCreate()"
   ],
   "metadata": {
    "collapsed": false,
    "pycharm": {
     "name": "#%%\n",
     "is_executing": true
    }
   }
  },
  {
   "cell_type": "code",
   "execution_count": 2,
   "outputs": [
    {
     "name": "stderr",
     "output_type": "stream",
     "text": [
      "                                                                                \r"
     ]
    },
    {
     "name": "stdout",
     "output_type": "stream",
     "text": [
      "+----------+-------+--------+-----------+--------------------+-----------+\n",
      "|      date|   type|  locale|locale_name|         description|transferred|\n",
      "+----------+-------+--------+-----------+--------------------+-----------+\n",
      "|2012-03-02|Holiday|   Local|      Manta|  Fundacion de Manta|      false|\n",
      "|2012-04-01|Holiday|Regional|   Cotopaxi|Provincializacion...|      false|\n",
      "|2012-04-12|Holiday|   Local|     Cuenca| Fundacion de Cuenca|      false|\n",
      "|2012-04-14|Holiday|   Local|   Libertad|Cantonizacion de ...|      false|\n",
      "|2012-04-21|Holiday|   Local|   Riobamba|Cantonizacion de ...|      false|\n",
      "+----------+-------+--------+-----------+--------------------+-----------+\n",
      "only showing top 5 rows\n",
      "\n"
     ]
    }
   ],
   "source": [
    "holidays = spark.read.parquet(str(proj.Config.paths.get(\"data_proc\").joinpath(\"holidays_events.parquet\")))\n",
    "holidays.show(5)"
   ],
   "metadata": {
    "collapsed": false,
    "pycharm": {
     "name": "#%%\n"
    }
   }
  },
  {
   "cell_type": "code",
   "execution_count": 3,
   "outputs": [
    {
     "name": "stdout",
     "output_type": "stream",
     "text": [
      "+--------------------+--------+\n",
      "|         locale_name|  locale|\n",
      "+--------------------+--------+\n",
      "|             Ecuador|National|\n",
      "|             Cayambe|   Local|\n",
      "|           Guayaquil|   Local|\n",
      "|              Cuenca|   Local|\n",
      "|           Latacunga|   Local|\n",
      "|                Loja|   Local|\n",
      "|            Riobamba|   Local|\n",
      "|                Puyo|   Local|\n",
      "|              Ibarra|   Local|\n",
      "|            Cotopaxi|Regional|\n",
      "|             Machala|   Local|\n",
      "|             Quevedo|   Local|\n",
      "|              Ambato|   Local|\n",
      "|Santo Domingo de ...|Regional|\n",
      "|       Santo Domingo|   Local|\n",
      "|           El Carmen|   Local|\n",
      "|               Manta|   Local|\n",
      "|             Salinas|   Local|\n",
      "|            Guaranda|   Local|\n",
      "|          Esmeraldas|   Local|\n",
      "|         Santa Elena|Regional|\n",
      "|            Libertad|   Local|\n",
      "|            Imbabura|Regional|\n",
      "|               Quito|   Local|\n",
      "+--------------------+--------+\n",
      "\n"
     ]
    }
   ],
   "source": [
    "holidays.select([\"locale_name\", \"locale\"]).distinct().show(30)"
   ],
   "metadata": {
    "collapsed": false,
    "pycharm": {
     "name": "#%%\n"
    }
   }
  },
  {
   "cell_type": "code",
   "execution_count": 3,
   "outputs": [],
   "source": [],
   "metadata": {
    "collapsed": false,
    "pycharm": {
     "name": "#%%\n"
    }
   }
  },
  {
   "cell_type": "markdown",
   "source": [
    "Locale_name is dependent on locale.\n",
    "\n",
    "Will need to split these up into each locale"
   ],
   "metadata": {
    "collapsed": false,
    "pycharm": {
     "name": "#%% md\n"
    }
   }
  },
  {
   "cell_type": "code",
   "execution_count": 4,
   "outputs": [],
   "source": [
    "holidays_nat = holidays.filter(\"locale == 'National'\")\n",
    "holidays_reg = holidays.filter(\"locale == 'Regional'\")\n",
    "holidays_loc = holidays.filter(\"locale == 'Local'\")"
   ],
   "metadata": {
    "collapsed": false,
    "pycharm": {
     "name": "#%%\n"
    }
   }
  },
  {
   "cell_type": "markdown",
   "source": [
    "### Understanding transferred"
   ],
   "metadata": {
    "collapsed": false,
    "pycharm": {
     "name": "#%% md\n"
    }
   }
  },
  {
   "cell_type": "code",
   "execution_count": 5,
   "outputs": [
    {
     "data": {
      "text/plain": "Row(date=datetime.date(2012, 10, 9), type='Holiday', locale='National', locale_name='Ecuador', description='Independencia de Guayaquil', transferred=True)"
     },
     "execution_count": 5,
     "metadata": {},
     "output_type": "execute_result"
    }
   ],
   "source": [
    "holidays.filter(\"transferred == TRUE\").collect()[0]"
   ],
   "metadata": {
    "collapsed": false,
    "pycharm": {
     "name": "#%%\n"
    }
   }
  },
  {
   "cell_type": "code",
   "execution_count": 6,
   "outputs": [
    {
     "name": "stdout",
     "output_type": "stream",
     "text": [
      "+----------+-------+--------+-----------+--------------------+-----------+\n",
      "|      date|   type|  locale|locale_name|         description|transferred|\n",
      "+----------+-------+--------+-----------+--------------------+-----------+\n",
      "|2012-10-09|Holiday|National|    Ecuador|Independencia de ...|       true|\n",
      "|2013-10-09|Holiday|National|    Ecuador|Independencia de ...|       true|\n",
      "|2014-10-09|Holiday|National|    Ecuador|Independencia de ...|       true|\n",
      "|2015-10-09|Holiday|National|    Ecuador|Independencia de ...|      false|\n",
      "|2016-10-09|Holiday|National|    Ecuador|Independencia de ...|      false|\n",
      "|2017-10-09|Holiday|National|    Ecuador|Independencia de ...|      false|\n",
      "+----------+-------+--------+-----------+--------------------+-----------+\n",
      "\n"
     ]
    }
   ],
   "source": [
    "holidays.filter(\"description == 'Independencia de Guayaquil'\").show()"
   ],
   "metadata": {
    "collapsed": false,
    "pycharm": {
     "name": "#%%\n"
    }
   }
  },
  {
   "cell_type": "code",
   "execution_count": 7,
   "outputs": [
    {
     "name": "stdout",
     "output_type": "stream",
     "text": [
      "Transferred events: 12\n"
     ]
    },
    {
     "data": {
      "text/plain": "Row(date=datetime.date(2012, 10, 12), type='Transfer', locale='National', locale_name='Ecuador', description='Traslado Independencia de Guayaquil', transferred=False)"
     },
     "execution_count": 7,
     "metadata": {},
     "output_type": "execute_result"
    }
   ],
   "source": [
    "print(\"Transferred events: \" + str(holidays.filter(\"type == 'Transfer'\").count()))\n",
    "holidays.filter(\"type == 'Transfer'\").collect()[0]"
   ],
   "metadata": {
    "collapsed": false,
    "pycharm": {
     "name": "#%%\n"
    }
   }
  },
  {
   "cell_type": "code",
   "execution_count": 8,
   "outputs": [
    {
     "name": "stdout",
     "output_type": "stream",
     "text": [
      "+----------+-----+\n",
      "|      type|count|\n",
      "+----------+-----+\n",
      "|     Event|   56|\n",
      "|   Holiday|  221|\n",
      "|  Transfer|   12|\n",
      "|    Bridge|    5|\n",
      "|Additional|   51|\n",
      "|  Work Day|    5|\n",
      "+----------+-----+\n",
      "\n"
     ]
    }
   ],
   "source": [
    "holidays.groupby(\"type\").count().show()"
   ],
   "metadata": {
    "collapsed": false,
    "pycharm": {
     "name": "#%%\n"
    }
   }
  },
  {
   "cell_type": "code",
   "execution_count": 9,
   "outputs": [
    {
     "name": "stdout",
     "output_type": "stream",
     "text": [
      "+----------+--------+--------+-----------+--------------------+-----------+\n",
      "|      date|    type|  locale|locale_name|         description|transferred|\n",
      "+----------+--------+--------+-----------+--------------------+-----------+\n",
      "|2012-10-12|Transfer|National|    Ecuador|Traslado Independ...|      false|\n",
      "|2013-10-11|Transfer|National|    Ecuador|Traslado Independ...|      false|\n",
      "|2014-10-10|Transfer|National|    Ecuador|Traslado Independ...|      false|\n",
      "|2016-05-27|Transfer|National|    Ecuador|Traslado Batalla ...|      false|\n",
      "|2016-07-24|Transfer|   Local|  Guayaquil|Traslado Fundacio...|      false|\n",
      "|2016-08-12|Transfer|National|    Ecuador|Traslado Primer G...|      false|\n",
      "|2017-01-02|Transfer|National|    Ecuador|Traslado Primer d...|      false|\n",
      "|2017-04-13|Transfer|   Local|     Cuenca| Fundacion de Cuenca|      false|\n",
      "|2017-05-26|Transfer|National|    Ecuador|Traslado Batalla ...|      false|\n",
      "|2017-08-11|Transfer|National|    Ecuador|Traslado Primer G...|      false|\n",
      "|2017-09-29|Transfer|   Local|     Ibarra| Fundacion de Ibarra|      false|\n",
      "|2017-12-08|Transfer|   Local|      Quito|Traslado Fundacio...|      false|\n",
      "+----------+--------+--------+-----------+--------------------+-----------+\n",
      "\n"
     ]
    }
   ],
   "source": [
    "holidays.filter(\"type == 'Transfer'\").show()"
   ],
   "metadata": {
    "collapsed": false,
    "pycharm": {
     "name": "#%%\n"
    }
   }
  },
  {
   "cell_type": "markdown",
   "source": [
    "Only 12 transferred events, some of which are before the start date of the training data.\n",
    "\n",
    "These are usually national holidays, and therefore probably will have impact.\n",
    "\n",
    "The only thing different about a transfer, is the type. Rather than saying holiday, event or bridge, instead is says transfer.\n",
    "\n",
    "Starting off, we'll assume holidays and events are similar, therefore don't require much manipulation or matching of the transfer data. This can happen if we want our model to better capture event types, but the assumption is that locale makes more of a difference than event type.\n",
    "\n",
    "If manipulations is required, matching can be done regex since the descriptions look to be very similar but start with \"Traslado\"\n",
    "\n",
    "For the moment, a holiday that has been transferred according to the flag will be considered normal day, and the day that is it transferred to be be considered the same as a holiday/event."
   ],
   "metadata": {
    "collapsed": false,
    "pycharm": {
     "name": "#%% md\n"
    }
   }
  },
  {
   "cell_type": "markdown",
   "source": [
    "### How to join to the correct `locale_name`, city or state?"
   ],
   "metadata": {
    "collapsed": false,
    "pycharm": {
     "name": "#%% md\n"
    }
   }
  },
  {
   "cell_type": "code",
   "execution_count": 10,
   "outputs": [],
   "source": [
    "holidays_nat = holidays.filter(\"locale == 'National'\") # obviously this will impact all stores\n",
    "holidays_reg = holidays.filter(\"locale == 'Regional'\")\n",
    "holidays_loc = holidays.filter(\"locale == 'Local'\")"
   ],
   "metadata": {
    "collapsed": false,
    "pycharm": {
     "name": "#%%\n"
    }
   }
  },
  {
   "cell_type": "code",
   "execution_count": 11,
   "outputs": [
    {
     "name": "stdout",
     "output_type": "stream",
     "text": [
      "+---------+-------------+--------------------+----+-------+\n",
      "|store_nbr|         city|               state|type|cluster|\n",
      "+---------+-------------+--------------------+----+-------+\n",
      "|        1|        Quito|           Pichincha|   D|     13|\n",
      "|        2|        Quito|           Pichincha|   D|     13|\n",
      "|        3|        Quito|           Pichincha|   D|      8|\n",
      "|        4|        Quito|           Pichincha|   D|      9|\n",
      "|        5|Santo Domingo|Santo Domingo de ...|   D|      4|\n",
      "|        6|        Quito|           Pichincha|   D|     13|\n",
      "|        7|        Quito|           Pichincha|   D|      8|\n",
      "|        8|        Quito|           Pichincha|   D|      8|\n",
      "|        9|        Quito|           Pichincha|   B|      6|\n",
      "|       10|        Quito|           Pichincha|   C|     15|\n",
      "|       11|      Cayambe|           Pichincha|   B|      6|\n",
      "|       12|    Latacunga|            Cotopaxi|   C|     15|\n",
      "|       13|    Latacunga|            Cotopaxi|   C|     15|\n",
      "|       14|     Riobamba|          Chimborazo|   C|      7|\n",
      "|       15|       Ibarra|            Imbabura|   C|     15|\n",
      "|       16|Santo Domingo|Santo Domingo de ...|   C|      3|\n",
      "|       17|        Quito|           Pichincha|   C|     12|\n",
      "|       18|        Quito|           Pichincha|   B|     16|\n",
      "|       19|     Guaranda|             Bolivar|   C|     15|\n",
      "|       20|        Quito|           Pichincha|   B|      6|\n",
      "+---------+-------------+--------------------+----+-------+\n",
      "only showing top 20 rows\n",
      "\n"
     ]
    }
   ],
   "source": [
    "stores = spark.read.parquet(str(proj.Config.paths.get(\"data_proc\").joinpath(\"stores.parquet\")))\n",
    "stores.show()"
   ],
   "metadata": {
    "collapsed": false,
    "pycharm": {
     "name": "#%%\n"
    }
   }
  },
  {
   "cell_type": "code",
   "execution_count": 12,
   "outputs": [
    {
     "name": "stdout",
     "output_type": "stream",
     "text": [
      "+--------------------+--------------------+\n",
      "|         locale_name|               state|\n",
      "+--------------------+--------------------+\n",
      "|            Cotopaxi|            Cotopaxi|\n",
      "|         Santa Elena|         Santa Elena|\n",
      "|            Imbabura|            Imbabura|\n",
      "|Santo Domingo de ...|Santo Domingo de ...|\n",
      "+--------------------+--------------------+\n",
      "\n"
     ]
    }
   ],
   "source": [
    "states = stores.select(\"state\").distinct()\n",
    "holidays_reg.select(\"locale_name\").distinct()\\\n",
    "    .join(states, holidays.locale_name == states.state, \"left\")\\\n",
    "    .show()"
   ],
   "metadata": {
    "collapsed": false,
    "pycharm": {
     "name": "#%%\n"
    }
   }
  },
  {
   "cell_type": "code",
   "execution_count": 13,
   "outputs": [
    {
     "name": "stdout",
     "output_type": "stream",
     "text": [
      "+-------------+-------------+\n",
      "|  locale_name|         city|\n",
      "+-------------+-------------+\n",
      "|      Quevedo|      Quevedo|\n",
      "|       Cuenca|       Cuenca|\n",
      "|     Guaranda|     Guaranda|\n",
      "|Santo Domingo|Santo Domingo|\n",
      "|         Puyo|         Puyo|\n",
      "|        Quito|        Quito|\n",
      "|        Manta|        Manta|\n",
      "|    Latacunga|    Latacunga|\n",
      "|    Guayaquil|    Guayaquil|\n",
      "|         Loja|         Loja|\n",
      "|       Ibarra|       Ibarra|\n",
      "|    El Carmen|    El Carmen|\n",
      "|       Ambato|       Ambato|\n",
      "|      Machala|      Machala|\n",
      "|      Cayambe|      Cayambe|\n",
      "|      Salinas|      Salinas|\n",
      "|     Libertad|     Libertad|\n",
      "|     Riobamba|     Riobamba|\n",
      "|   Esmeraldas|   Esmeraldas|\n",
      "+-------------+-------------+\n",
      "\n"
     ]
    }
   ],
   "source": [
    "cities = stores.select(\"city\").distinct()\n",
    "holidays_city = holidays_loc.select(\"locale_name\").distinct()\\\n",
    "    .join(cities, holidays.locale_name == cities.city, \"left\")\\\n",
    "    .show()"
   ],
   "metadata": {
    "collapsed": false,
    "pycharm": {
     "name": "#%%\n"
    }
   }
  },
  {
   "cell_type": "markdown",
   "source": [
    "### Join by\n",
    "- Local = city\n",
    "- Regional = state"
   ],
   "metadata": {
    "collapsed": false,
    "pycharm": {
     "name": "#%% md\n"
    }
   }
  }
 ],
 "metadata": {
  "kernelspec": {
   "display_name": "Python 3",
   "language": "python",
   "name": "python3"
  },
  "language_info": {
   "codemirror_mode": {
    "name": "ipython",
    "version": 2
   },
   "file_extension": ".py",
   "mimetype": "text/x-python",
   "name": "python",
   "nbconvert_exporter": "python",
   "pygments_lexer": "ipython2",
   "version": "2.7.6"
  }
 },
 "nbformat": 4,
 "nbformat_minor": 0
}