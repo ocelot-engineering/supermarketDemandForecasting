{
 "cells": [
  {
   "cell_type": "markdown",
   "source": [
    "# EDA for promotions\n",
    "Need to understand if promotions are done at an item-family level or store-cluster level, etc.\n",
    "\n",
    "Also, will determine what to do with NAs"
   ],
   "metadata": {
    "collapsed": false,
    "pycharm": {
     "name": "#%% md\n"
    }
   }
  },
  {
   "cell_type": "code",
   "execution_count": null,
   "outputs": [],
   "source": [
    "from config import proj\n",
    "import pyspark.sql.functions as sf\n",
    "from pyspark.sql import SparkSession\n",
    "spark = SparkSession.builder.getOrCreate()"
   ],
   "metadata": {
    "collapsed": false,
    "pycharm": {
     "name": "#%%\n",
     "is_executing": true
    }
   }
  },
  {
   "cell_type": "markdown",
   "source": [
    "Check for missing promo flag. Decide what to do with it."
   ],
   "metadata": {
    "collapsed": false,
    "pycharm": {
     "name": "#%% md\n"
    }
   }
  },
  {
   "cell_type": "code",
   "execution_count": 21,
   "outputs": [
    {
     "name": "stdout",
     "output_type": "stream",
     "text": [
      "+----------+\n",
      "| max(date)|\n",
      "+----------+\n",
      "|2014-03-31|\n",
      "+----------+\n",
      "\n"
     ]
    }
   ],
   "source": [
    "train = spark.read.parquet(str(proj.Config.paths.get(\"data_proc\").joinpath(\"train.parquet\")))\n",
    "train.filter(\"onpromotion is null\").agg(sf.max(\"date\")).show()"
   ],
   "metadata": {
    "collapsed": false,
    "pycharm": {
     "name": "#%%\n"
    }
   }
  },
  {
   "cell_type": "markdown",
   "source": [
    "Missing promos are only an issue up until March 2014, the feature store currently excludes dates this far back so can ignore them for now."
   ],
   "metadata": {
    "collapsed": false,
    "pycharm": {
     "name": "#%% md\n"
    }
   }
  },
  {
   "cell_type": "code",
   "execution_count": 24,
   "outputs": [
    {
     "name": "stdout",
     "output_type": "stream",
     "text": [
      "+---------+\n",
      "|max(date)|\n",
      "+---------+\n",
      "|     null|\n",
      "+---------+\n",
      "\n"
     ]
    }
   ],
   "source": [
    "test = spark.read.parquet(str(proj.Config.paths.get(\"data_proc\").joinpath(\"test.parquet\")))\n",
    "test.filter(\"onpromotion is null\").agg(sf.max(\"date\")).show()"
   ],
   "metadata": {
    "collapsed": false,
    "pycharm": {
     "name": "#%%\n"
    }
   }
  },
  {
   "cell_type": "markdown",
   "source": [
    "No missing promo flags in test."
   ],
   "metadata": {
    "collapsed": false,
    "pycharm": {
     "name": "#%% md\n"
    }
   }
  },
  {
   "cell_type": "markdown",
   "source": [
    "## Discover promotional patterns"
   ],
   "metadata": {
    "collapsed": false,
    "pycharm": {
     "name": "#%% md\n"
    }
   }
  },
  {
   "cell_type": "code",
   "execution_count": 27,
   "outputs": [
    {
     "name": "stdout",
     "output_type": "stream",
     "text": [
      "+----------+----------+----------+--------+---------+----------+-----------+---------+-----+----------+----+-------+--------+------------+---------+---------+---------+----------+\n",
      "|      date|      city|     state|item_nbr|store_nbr|unit_sales|onpromotion|   family|class|perishable|type|cluster|new_item|cleared_item|event_nat|event_reg|event_loc|event_type|\n",
      "+----------+----------+----------+--------+---------+----------+-----------+---------+-----+----------+----+-------+--------+------------+---------+---------+---------+----------+\n",
      "|2016-11-01| El Carmen|    Manabi|  129759|       54|       4.0|      false|GROCERY I| 1032|         0|   C|      3|   false|       false|    false|    false|    false|      null|\n",
      "|2016-12-26|    Cuenca|     Azuay|  129759|       39|       7.0|      false|GROCERY I| 1032|         0|   B|      6|   false|       false|     true|    false|    false|Additional|\n",
      "|2016-07-22|     Quito| Pichincha|  129759|        9|       1.0|      false|GROCERY I| 1032|         0|   B|      6|   false|       false|    false|    false|    false|      null|\n",
      "|2016-12-26|Esmeraldas|Esmeraldas|  129759|       43|       7.0|      false|GROCERY I| 1032|         0|   E|     10|   false|       false|     true|    false|    false|Additional|\n",
      "|2016-07-22|     Quito| Pichincha|  129759|       10|       1.0|      false|GROCERY I| 1032|         0|   C|     15|   false|       false|    false|    false|    false|      null|\n",
      "+----------+----------+----------+--------+---------+----------+-----------+---------+-----+----------+----+-------+--------+------------+---------+---------+---------+----------+\n",
      "only showing top 5 rows\n",
      "\n"
     ]
    }
   ],
   "source": [
    "pfs = spark.read.parquet(str(proj.Config.paths.get(\"data_proc\").joinpath(\"feature_store.parquet\")))\n",
    "pfs.show(5)"
   ],
   "metadata": {
    "collapsed": false,
    "pycharm": {
     "name": "#%%\n"
    }
   }
  },
  {
   "cell_type": "code",
   "execution_count": 26,
   "outputs": [
    {
     "data": {
      "text/plain": "DataFrame[date: date, city: string, state: string, item_nbr: int, store_nbr: int, unit_sales: float, onpromotion: boolean, family: string, class: string, perishable: int, type: string, cluster: string, new_item: boolean, cleared_item: boolean, event_nat: boolean, event_reg: boolean, event_loc: boolean, event_type: string]"
     },
     "execution_count": 26,
     "metadata": {},
     "output_type": "execute_result"
    }
   ],
   "source": [
    "pfs.filter(\"onpromotion is TRUE\")"
   ],
   "metadata": {
    "collapsed": false,
    "pycharm": {
     "name": "#%%\n"
    }
   }
  },
  {
   "cell_type": "code",
   "execution_count": 8,
   "outputs": [
    {
     "name": "stderr",
     "output_type": "stream",
     "text": [
      "[Stage 4:====================================================>      (8 + 1) / 9]\r"
     ]
    },
    {
     "name": "stdout",
     "output_type": "stream",
     "text": [
      "+-----------+--------+\n",
      "|onpromotion|   count|\n",
      "+-----------+--------+\n",
      "|       true| 6843833|\n",
      "|      false|64778430|\n",
      "+-----------+--------+\n",
      "\n"
     ]
    },
    {
     "name": "stderr",
     "output_type": "stream",
     "text": [
      "                                                                                \r"
     ]
    }
   ],
   "source": [
    "pfs.select(\"date\", \"onpromotion\").groupby(\"onpromotion\").count().show()"
   ],
   "metadata": {
    "collapsed": false,
    "pycharm": {
     "name": "#%%\n"
    }
   }
  },
  {
   "cell_type": "code",
   "execution_count": 16,
   "outputs": [
    {
     "name": "stderr",
     "output_type": "stream",
     "text": [
      "[Stage 15:=======>                                                  (1 + 7) / 8]\r"
     ]
    },
    {
     "name": "stdout",
     "output_type": "stream",
     "text": [
      "+-----------+\n",
      "|onpromotion|\n",
      "+-----------+\n",
      "|       null|\n",
      "|       true|\n",
      "|      false|\n",
      "+-----------+\n",
      "\n"
     ]
    },
    {
     "name": "stderr",
     "output_type": "stream",
     "text": [
      "                                                                                \r"
     ]
    }
   ],
   "source": [
    "pfs.select(\"onpromotion\").distinct().show()"
   ],
   "metadata": {
    "collapsed": false,
    "pycharm": {
     "name": "#%%\n"
    }
   }
  },
  {
   "cell_type": "code",
   "execution_count": 20,
   "outputs": [
    {
     "name": "stdout",
     "output_type": "stream",
     "text": [
      "+----------+\n",
      "| max(date)|\n",
      "+----------+\n",
      "|2014-03-31|\n",
      "+----------+\n",
      "\n"
     ]
    }
   ],
   "source": [
    "pfs.filter(\"onpromotion is null\").agg(sf.max(\"date\")).show()"
   ],
   "metadata": {
    "collapsed": false,
    "pycharm": {
     "name": "#%%\n"
    }
   }
  }
 ],
 "metadata": {
  "kernelspec": {
   "display_name": "Python 3",
   "language": "python",
   "name": "python3"
  },
  "language_info": {
   "codemirror_mode": {
    "name": "ipython",
    "version": 2
   },
   "file_extension": ".py",
   "mimetype": "text/x-python",
   "name": "python",
   "nbconvert_exporter": "python",
   "pygments_lexer": "ipython2",
   "version": "2.7.6"
  }
 },
 "nbformat": 4,
 "nbformat_minor": 0
}